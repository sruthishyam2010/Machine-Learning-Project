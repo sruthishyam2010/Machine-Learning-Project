{
 "cells": [
  {
   "cell_type": "markdown",
   "id": "9eef7ba5",
   "metadata": {},
   "source": [
    "# ML PROJECT-UNIVERSITY ADMISSION PREDICTION- PHASE 2\n",
    "## SRUTHI SHYAM   AM.EN.U4CSE19055"
   ]
  },
  {
   "cell_type": "markdown",
   "id": "b32f7584",
   "metadata": {},
   "source": [
    "## Importing libraries"
   ]
  },
  {
   "cell_type": "code",
   "execution_count": 2,
   "id": "119e9c7a",
   "metadata": {},
   "outputs": [],
   "source": [
    "import numpy as np\n",
    "import pandas as pd\n",
    "import matplotlib.pyplot as plt\n",
    "import seaborn as sns\n",
    "from sklearn.preprocessing import MinMaxScaler\n",
    "from sklearn.model_selection import train_test_split"
   ]
  },
  {
   "cell_type": "markdown",
   "id": "16482d73",
   "metadata": {},
   "source": [
    "## Loading dataset"
   ]
  },
  {
   "cell_type": "code",
   "execution_count": 33,
   "id": "2a04aa3b",
   "metadata": {},
   "outputs": [
    {
     "data": {
      "text/html": [
       "<div>\n",
       "<style scoped>\n",
       "    .dataframe tbody tr th:only-of-type {\n",
       "        vertical-align: middle;\n",
       "    }\n",
       "\n",
       "    .dataframe tbody tr th {\n",
       "        vertical-align: top;\n",
       "    }\n",
       "\n",
       "    .dataframe thead th {\n",
       "        text-align: right;\n",
       "    }\n",
       "</style>\n",
       "<table border=\"1\" class=\"dataframe\">\n",
       "  <thead>\n",
       "    <tr style=\"text-align: right;\">\n",
       "      <th></th>\n",
       "      <th>Serial No.</th>\n",
       "      <th>GRE Score</th>\n",
       "      <th>TOEFL Score</th>\n",
       "      <th>University Rating</th>\n",
       "      <th>SOP</th>\n",
       "      <th>LOR</th>\n",
       "      <th>CGPA</th>\n",
       "      <th>Research</th>\n",
       "      <th>Chance of Admit</th>\n",
       "    </tr>\n",
       "  </thead>\n",
       "  <tbody>\n",
       "    <tr>\n",
       "      <th>0</th>\n",
       "      <td>1</td>\n",
       "      <td>337</td>\n",
       "      <td>118</td>\n",
       "      <td>4</td>\n",
       "      <td>4.5</td>\n",
       "      <td>4.5</td>\n",
       "      <td>9.65</td>\n",
       "      <td>1</td>\n",
       "      <td>0.92</td>\n",
       "    </tr>\n",
       "    <tr>\n",
       "      <th>1</th>\n",
       "      <td>2</td>\n",
       "      <td>324</td>\n",
       "      <td>107</td>\n",
       "      <td>4</td>\n",
       "      <td>4.0</td>\n",
       "      <td>4.5</td>\n",
       "      <td>8.87</td>\n",
       "      <td>1</td>\n",
       "      <td>0.76</td>\n",
       "    </tr>\n",
       "    <tr>\n",
       "      <th>2</th>\n",
       "      <td>3</td>\n",
       "      <td>316</td>\n",
       "      <td>104</td>\n",
       "      <td>3</td>\n",
       "      <td>3.0</td>\n",
       "      <td>3.5</td>\n",
       "      <td>8.00</td>\n",
       "      <td>1</td>\n",
       "      <td>0.72</td>\n",
       "    </tr>\n",
       "    <tr>\n",
       "      <th>3</th>\n",
       "      <td>4</td>\n",
       "      <td>322</td>\n",
       "      <td>110</td>\n",
       "      <td>3</td>\n",
       "      <td>3.5</td>\n",
       "      <td>2.5</td>\n",
       "      <td>8.67</td>\n",
       "      <td>1</td>\n",
       "      <td>0.80</td>\n",
       "    </tr>\n",
       "    <tr>\n",
       "      <th>4</th>\n",
       "      <td>5</td>\n",
       "      <td>314</td>\n",
       "      <td>103</td>\n",
       "      <td>2</td>\n",
       "      <td>2.0</td>\n",
       "      <td>3.0</td>\n",
       "      <td>8.21</td>\n",
       "      <td>0</td>\n",
       "      <td>0.65</td>\n",
       "    </tr>\n",
       "    <tr>\n",
       "      <th>...</th>\n",
       "      <td>...</td>\n",
       "      <td>...</td>\n",
       "      <td>...</td>\n",
       "      <td>...</td>\n",
       "      <td>...</td>\n",
       "      <td>...</td>\n",
       "      <td>...</td>\n",
       "      <td>...</td>\n",
       "      <td>...</td>\n",
       "    </tr>\n",
       "    <tr>\n",
       "      <th>395</th>\n",
       "      <td>396</td>\n",
       "      <td>324</td>\n",
       "      <td>110</td>\n",
       "      <td>3</td>\n",
       "      <td>3.5</td>\n",
       "      <td>3.5</td>\n",
       "      <td>9.04</td>\n",
       "      <td>1</td>\n",
       "      <td>0.82</td>\n",
       "    </tr>\n",
       "    <tr>\n",
       "      <th>396</th>\n",
       "      <td>397</td>\n",
       "      <td>325</td>\n",
       "      <td>107</td>\n",
       "      <td>3</td>\n",
       "      <td>3.0</td>\n",
       "      <td>3.5</td>\n",
       "      <td>9.11</td>\n",
       "      <td>1</td>\n",
       "      <td>0.84</td>\n",
       "    </tr>\n",
       "    <tr>\n",
       "      <th>397</th>\n",
       "      <td>398</td>\n",
       "      <td>330</td>\n",
       "      <td>116</td>\n",
       "      <td>4</td>\n",
       "      <td>5.0</td>\n",
       "      <td>4.5</td>\n",
       "      <td>9.45</td>\n",
       "      <td>1</td>\n",
       "      <td>0.91</td>\n",
       "    </tr>\n",
       "    <tr>\n",
       "      <th>398</th>\n",
       "      <td>399</td>\n",
       "      <td>312</td>\n",
       "      <td>103</td>\n",
       "      <td>3</td>\n",
       "      <td>3.5</td>\n",
       "      <td>4.0</td>\n",
       "      <td>8.78</td>\n",
       "      <td>0</td>\n",
       "      <td>0.67</td>\n",
       "    </tr>\n",
       "    <tr>\n",
       "      <th>399</th>\n",
       "      <td>400</td>\n",
       "      <td>333</td>\n",
       "      <td>117</td>\n",
       "      <td>4</td>\n",
       "      <td>5.0</td>\n",
       "      <td>4.0</td>\n",
       "      <td>9.66</td>\n",
       "      <td>1</td>\n",
       "      <td>0.95</td>\n",
       "    </tr>\n",
       "  </tbody>\n",
       "</table>\n",
       "<p>400 rows × 9 columns</p>\n",
       "</div>"
      ],
      "text/plain": [
       "     Serial No.  GRE Score  TOEFL Score  University Rating  SOP  LOR   CGPA  \\\n",
       "0             1        337          118                  4  4.5   4.5  9.65   \n",
       "1             2        324          107                  4  4.0   4.5  8.87   \n",
       "2             3        316          104                  3  3.0   3.5  8.00   \n",
       "3             4        322          110                  3  3.5   2.5  8.67   \n",
       "4             5        314          103                  2  2.0   3.0  8.21   \n",
       "..          ...        ...          ...                ...  ...   ...   ...   \n",
       "395         396        324          110                  3  3.5   3.5  9.04   \n",
       "396         397        325          107                  3  3.0   3.5  9.11   \n",
       "397         398        330          116                  4  5.0   4.5  9.45   \n",
       "398         399        312          103                  3  3.5   4.0  8.78   \n",
       "399         400        333          117                  4  5.0   4.0  9.66   \n",
       "\n",
       "     Research  Chance of Admit   \n",
       "0           1              0.92  \n",
       "1           1              0.76  \n",
       "2           1              0.72  \n",
       "3           1              0.80  \n",
       "4           0              0.65  \n",
       "..        ...               ...  \n",
       "395         1              0.82  \n",
       "396         1              0.84  \n",
       "397         1              0.91  \n",
       "398         0              0.67  \n",
       "399         1              0.95  \n",
       "\n",
       "[400 rows x 9 columns]"
      ]
     },
     "execution_count": 33,
     "metadata": {},
     "output_type": "execute_result"
    }
   ],
   "source": [
    "df=pd.read_csv(\"admissionOriginal.csv\")\n",
    "df"
   ]
  },
  {
   "cell_type": "markdown",
   "id": "ea8dd32d",
   "metadata": {},
   "source": [
    "## PRE PROCESSING\n",
    "## Removing unecessary column and summary of data"
   ]
  },
  {
   "cell_type": "code",
   "execution_count": 4,
   "id": "34b9a9f5",
   "metadata": {},
   "outputs": [
    {
     "data": {
      "text/html": [
       "<div>\n",
       "<style scoped>\n",
       "    .dataframe tbody tr th:only-of-type {\n",
       "        vertical-align: middle;\n",
       "    }\n",
       "\n",
       "    .dataframe tbody tr th {\n",
       "        vertical-align: top;\n",
       "    }\n",
       "\n",
       "    .dataframe thead th {\n",
       "        text-align: right;\n",
       "    }\n",
       "</style>\n",
       "<table border=\"1\" class=\"dataframe\">\n",
       "  <thead>\n",
       "    <tr style=\"text-align: right;\">\n",
       "      <th></th>\n",
       "      <th>count</th>\n",
       "      <th>mean</th>\n",
       "      <th>std</th>\n",
       "      <th>min</th>\n",
       "      <th>25%</th>\n",
       "      <th>50%</th>\n",
       "      <th>75%</th>\n",
       "      <th>max</th>\n",
       "    </tr>\n",
       "  </thead>\n",
       "  <tbody>\n",
       "    <tr>\n",
       "      <th>GRE Score</th>\n",
       "      <td>400.0</td>\n",
       "      <td>316.807500</td>\n",
       "      <td>11.473646</td>\n",
       "      <td>290.00</td>\n",
       "      <td>308.00</td>\n",
       "      <td>317.00</td>\n",
       "      <td>325.0000</td>\n",
       "      <td>340.00</td>\n",
       "    </tr>\n",
       "    <tr>\n",
       "      <th>TOEFL Score</th>\n",
       "      <td>400.0</td>\n",
       "      <td>107.410000</td>\n",
       "      <td>6.069514</td>\n",
       "      <td>92.00</td>\n",
       "      <td>103.00</td>\n",
       "      <td>107.00</td>\n",
       "      <td>112.0000</td>\n",
       "      <td>120.00</td>\n",
       "    </tr>\n",
       "    <tr>\n",
       "      <th>University Rating</th>\n",
       "      <td>400.0</td>\n",
       "      <td>3.087500</td>\n",
       "      <td>1.143728</td>\n",
       "      <td>1.00</td>\n",
       "      <td>2.00</td>\n",
       "      <td>3.00</td>\n",
       "      <td>4.0000</td>\n",
       "      <td>5.00</td>\n",
       "    </tr>\n",
       "    <tr>\n",
       "      <th>SOP</th>\n",
       "      <td>400.0</td>\n",
       "      <td>3.400000</td>\n",
       "      <td>1.006869</td>\n",
       "      <td>1.00</td>\n",
       "      <td>2.50</td>\n",
       "      <td>3.50</td>\n",
       "      <td>4.0000</td>\n",
       "      <td>5.00</td>\n",
       "    </tr>\n",
       "    <tr>\n",
       "      <th>LOR</th>\n",
       "      <td>400.0</td>\n",
       "      <td>3.452500</td>\n",
       "      <td>0.898478</td>\n",
       "      <td>1.00</td>\n",
       "      <td>3.00</td>\n",
       "      <td>3.50</td>\n",
       "      <td>4.0000</td>\n",
       "      <td>5.00</td>\n",
       "    </tr>\n",
       "    <tr>\n",
       "      <th>CGPA</th>\n",
       "      <td>400.0</td>\n",
       "      <td>8.598925</td>\n",
       "      <td>0.596317</td>\n",
       "      <td>6.80</td>\n",
       "      <td>8.17</td>\n",
       "      <td>8.61</td>\n",
       "      <td>9.0625</td>\n",
       "      <td>9.92</td>\n",
       "    </tr>\n",
       "    <tr>\n",
       "      <th>Research</th>\n",
       "      <td>400.0</td>\n",
       "      <td>0.547500</td>\n",
       "      <td>0.498362</td>\n",
       "      <td>0.00</td>\n",
       "      <td>0.00</td>\n",
       "      <td>1.00</td>\n",
       "      <td>1.0000</td>\n",
       "      <td>1.00</td>\n",
       "    </tr>\n",
       "    <tr>\n",
       "      <th>Chance of Admit</th>\n",
       "      <td>400.0</td>\n",
       "      <td>0.724350</td>\n",
       "      <td>0.142609</td>\n",
       "      <td>0.34</td>\n",
       "      <td>0.64</td>\n",
       "      <td>0.73</td>\n",
       "      <td>0.8300</td>\n",
       "      <td>0.97</td>\n",
       "    </tr>\n",
       "  </tbody>\n",
       "</table>\n",
       "</div>"
      ],
      "text/plain": [
       "                   count        mean        std     min     25%     50%  \\\n",
       "GRE Score          400.0  316.807500  11.473646  290.00  308.00  317.00   \n",
       "TOEFL Score        400.0  107.410000   6.069514   92.00  103.00  107.00   \n",
       "University Rating  400.0    3.087500   1.143728    1.00    2.00    3.00   \n",
       "SOP                400.0    3.400000   1.006869    1.00    2.50    3.50   \n",
       "LOR                400.0    3.452500   0.898478    1.00    3.00    3.50   \n",
       "CGPA               400.0    8.598925   0.596317    6.80    8.17    8.61   \n",
       "Research           400.0    0.547500   0.498362    0.00    0.00    1.00   \n",
       "Chance of Admit    400.0    0.724350   0.142609    0.34    0.64    0.73   \n",
       "\n",
       "                        75%     max  \n",
       "GRE Score          325.0000  340.00  \n",
       "TOEFL Score        112.0000  120.00  \n",
       "University Rating    4.0000    5.00  \n",
       "SOP                  4.0000    5.00  \n",
       "LOR                  4.0000    5.00  \n",
       "CGPA                 9.0625    9.92  \n",
       "Research             1.0000    1.00  \n",
       "Chance of Admit      0.8300    0.97  "
      ]
     },
     "execution_count": 4,
     "metadata": {},
     "output_type": "execute_result"
    }
   ],
   "source": [
    "df = df.drop(columns=\"Serial No.\") ##removed serial number column\n",
    "df.describe().T"
   ]
  },
  {
   "cell_type": "markdown",
   "id": "c8d2a6e1",
   "metadata": {},
   "source": [
    "## Feature Scaling  and Data Splitting"
   ]
  },
  {
   "cell_type": "code",
   "execution_count": 5,
   "id": "bb51edc5",
   "metadata": {},
   "outputs": [
    {
     "name": "stdout",
     "output_type": "stream",
     "text": [
      "(400, 7) (400,)\n",
      "(320, 7) (80, 7) (320,) (80,)\n"
     ]
    }
   ],
   "source": [
    "data = df.values\n",
    "# split into inputs and outputs\n",
    "X=data[:,:-1]\n",
    "y=data[:,-1]\n",
    "print(X.shape, y.shape)\n",
    "##standardization\n",
    "from sklearn.preprocessing import StandardScaler\n",
    "sc = StandardScaler()\n",
    "X = sc.fit_transform(X)\n",
    "# split into train test sets\n",
    "X_train, X_test, y_train, y_test = train_test_split(X, y, test_size=0.20, random_state=1)\n",
    "print(X_train.shape, X_test.shape, y_train.shape, y_test.shape)"
   ]
  },
  {
   "cell_type": "markdown",
   "id": "4bb98f7c",
   "metadata": {},
   "source": [
    "## SUPERVISED ML ALGORITHMS USING SKLEARN BULIT IN FUNCTIONS"
   ]
  },
  {
   "cell_type": "markdown",
   "id": "770b40ce",
   "metadata": {},
   "source": [
    "## Linear Regression"
   ]
  },
  {
   "cell_type": "code",
   "execution_count": 10,
   "id": "b2bfbf21",
   "metadata": {},
   "outputs": [
    {
     "name": "stdout",
     "output_type": "stream",
     "text": [
      "0.8079043677020102\n"
     ]
    }
   ],
   "source": [
    "from sklearn.linear_model import LinearRegression\n",
    "from sklearn.metrics import mean_squared_error, accuracy_score\n",
    "linear_regression_model = LinearRegression()\n",
    "linear_regression_model.fit(X_train, y_train)\n",
    "lr=linear_regression_model.score(X_test,y_test)#r2 score \n",
    "print(lr)"
   ]
  },
  {
   "cell_type": "markdown",
   "id": "05e2e644",
   "metadata": {},
   "source": [
    "## Decision Tree"
   ]
  },
  {
   "cell_type": "code",
   "execution_count": 11,
   "id": "1cb24e37",
   "metadata": {},
   "outputs": [
    {
     "name": "stdout",
     "output_type": "stream",
     "text": [
      "0.6743586486829767\n"
     ]
    }
   ],
   "source": [
    "from sklearn.tree import DecisionTreeRegressor\n",
    "decisionTree_model = DecisionTreeRegressor()\n",
    "decisionTree_model.fit(X_train, y_train)\n",
    "dt=decisionTree_model.score(X_test, y_test)\n",
    "print(dt)"
   ]
  },
  {
   "cell_type": "markdown",
   "id": "5e100f43",
   "metadata": {},
   "source": [
    "## Random Forest"
   ]
  },
  {
   "cell_type": "code",
   "execution_count": 13,
   "id": "21bb6fd9",
   "metadata": {},
   "outputs": [
    {
     "name": "stdout",
     "output_type": "stream",
     "text": [
      "0.7748302526053955\n"
     ]
    }
   ],
   "source": [
    "from sklearn.ensemble import RandomForestRegressor\n",
    "randomForest_model = RandomForestRegressor(n_estimators=100, max_depth=10)\n",
    "randomForest_model.fit(X_train, y_train)\n",
    "rf=randomForest_model.score(X_test,y_test)\n",
    "print(rf)"
   ]
  },
  {
   "cell_type": "markdown",
   "id": "15ee4379",
   "metadata": {},
   "source": [
    "## KNN"
   ]
  },
  {
   "cell_type": "code",
   "execution_count": 24,
   "id": "39dbfee5",
   "metadata": {},
   "outputs": [
    {
     "name": "stdout",
     "output_type": "stream",
     "text": [
      "0.7868509281785026\n"
     ]
    }
   ],
   "source": [
    "from sklearn.neighbors import KNeighborsRegressor\n",
    "k=[3,5,7,9]\n",
    "ks=[]\n",
    "for i in k:\n",
    "    model =KNeighborsRegressor(n_neighbors=i)\n",
    "    model.fit(X_train, y_train)\n",
    "    knn=model.score(X_test, y_test)\n",
    "    ks.append(knn)\n",
    "knn=max(ks)\n",
    "print(knn)"
   ]
  },
  {
   "cell_type": "markdown",
   "id": "cc9542bd",
   "metadata": {},
   "source": [
    "### plot of performance for different values of k"
   ]
  },
  {
   "cell_type": "code",
   "execution_count": 25,
   "id": "a4949bb5",
   "metadata": {},
   "outputs": [
    {
     "data": {
      "text/plain": [
       "Text(0.5, 1.0, 'K value Vs Performance')"
      ]
     },
     "execution_count": 25,
     "metadata": {},
     "output_type": "execute_result"
    },
    {
     "data": {
      "image/png": "[encoded data removed]",
      "text/plain": [
       "<Figure size 432x288 with 1 Axes>"
      ]
     },
     "metadata": {
      "needs_background": "light"
     },
     "output_type": "display_data"
    }
   ],
   "source": [
    "plt.plot(k,ks)\n",
    "plt.xlabel('K values')\n",
    "plt.ylabel('r2 scores')\n",
    "plt.title('K value Vs Performance')"
   ]
  },
  {
   "cell_type": "markdown",
   "id": "77ecc10f",
   "metadata": {},
   "source": [
    "## Support Vector"
   ]
  },
  {
   "cell_type": "code",
   "execution_count": 27,
   "id": "5e70f02a",
   "metadata": {},
   "outputs": [
    {
     "name": "stdout",
     "output_type": "stream",
     "text": [
      "0.7483828250499446\n"
     ]
    }
   ],
   "source": [
    "from sklearn.svm import SVR\n",
    "supportVector_model = SVR(kernel='linear')\n",
    "supportVector_model.fit(X_train, y_train)\n",
    "sv=supportVector_model.score(X_test,y_test)\n",
    "print(sv)"
   ]
  },
  {
   "cell_type": "markdown",
   "id": "85456276",
   "metadata": {},
   "source": [
    "## plot of performance for different ml algorithms"
   ]
  },
  {
   "cell_type": "code",
   "execution_count": 32,
   "id": "97bbcbd3",
   "metadata": {},
   "outputs": [
    {
     "data": {
      "text/plain": [
       "Text(0.5, 1.0, 'Algorithm Vs Performance')"
      ]
     },
     "execution_count": 32,
     "metadata": {},
     "output_type": "execute_result"
    },
    {
     "data": {
      "image/png": "[encoded data removed]",
      "text/plain": [
       "<Figure size 432x288 with 1 Axes>"
      ]
     },
     "metadata": {
      "needs_background": "light"
     },
     "output_type": "display_data"
    }
   ],
   "source": [
    "sc=[lr,dt,rf,knn,sv]\n",
    "m=['LR','DT','RF','KNN','SV']\n",
    "plt.bar(m,sc,color='orange',width=0.4)\n",
    "plt.xlabel('Algorithms')\n",
    "plt.ylabel('Performance')\n",
    "plt.title('Algorithm Vs Performance')"
   ]
  },
  {
   "cell_type": "markdown",
   "id": "a8f7a012",
   "metadata": {},
   "source": [
    "Linear regression model gives the best performance so we will implement it from scratch.\n",
    "The decreasing order of performance :Linear Regression,KNN,Random Forest,Support Vector and Decision Tree"
   ]
  },
  {
   "cell_type": "markdown",
   "id": "22795ed4",
   "metadata": {},
   "source": [
    "## IMPLEMENTING LINEAR REGRESSION FROM SCRATCH"
   ]
  },
  {
   "cell_type": "code",
   "execution_count": 15,
   "id": "f688575b",
   "metadata": {},
   "outputs": [],
   "source": [
    "def CostFunction(x,y,w,b):\n",
    "    cost = np.sum((((x.dot(w) + b) - y) ** 2) / (2*len(y)))\n",
    "    return cost"
   ]
  },
  {
   "cell_type": "code",
   "execution_count": 16,
   "id": "5fe9eff5",
   "metadata": {},
   "outputs": [],
   "source": [
    "#Gradient Descent\n",
    "def GradientDescent(x, y, w, b, learning_rate, epochs):\n",
    "    cost_list = [0] * epochs\n",
    "   \n",
    "    for epoch in range(epochs):\n",
    "        z = x.dot(w) + b\n",
    "        loss = z - y\n",
    "        \n",
    "        weight_gradient = x.T.dot(loss) / len(y)\n",
    "        bias_gradient = np.sum(loss) / len(y)\n",
    "        \n",
    "        w = w - learning_rate*weight_gradient\n",
    "        b = b - learning_rate*bias_gradient\n",
    "  \n",
    "        cost = CostFunction(x, y, w, b)\n",
    "        cost_list[epoch] = cost\n",
    "        \n",
    "        if (epoch%(epochs/10)==0):\n",
    "            print(\"Cost at epoch\",epoch,\"is:\",cost)\n",
    "        \n",
    "    return w, b, cost_list"
   ]
  },
  {
   "cell_type": "code",
   "execution_count": 17,
   "id": "4a61cc07",
   "metadata": {},
   "outputs": [
    {
     "name": "stdout",
     "output_type": "stream",
     "text": [
      "Cost at epoch 0 is: 0.27222401963159326\n",
      "Cost at epoch 1500 is: 0.0026568298040170035\n",
      "Cost at epoch 3000 is: 0.0019726725117303677\n",
      "Cost at epoch 4500 is: 0.001956911436354154\n",
      "Cost at epoch 6000 is: 0.001951350812774764\n",
      "Cost at epoch 7500 is: 0.0019490940207929684\n",
      "Cost at epoch 9000 is: 0.0019481583306738925\n",
      "Cost at epoch 10500 is: 0.0019477654834906281\n",
      "Cost at epoch 12000 is: 0.0019475992392871118\n",
      "Cost at epoch 13500 is: 0.0019475285237009997\n"
     ]
    }
   ],
   "source": [
    "# Calculating weights and bias\n",
    "w, b, c= GradientDescent(X_train, y_train, np.zeros(X_train.shape[1]), 0, 0.002,epochs=15000)"
   ]
  },
  {
   "cell_type": "code",
   "execution_count": 18,
   "id": "789f621f",
   "metadata": {},
   "outputs": [
    {
     "data": {
      "text/plain": [
       "[<matplotlib.lines.Line2D at 0x1ea50665f70>]"
      ]
     },
     "execution_count": 18,
     "metadata": {},
     "output_type": "execute_result"
    },
    {
     "data": {
      "image/png": "[encoded data removed]",
      "text/plain": [
       "<Figure size 432x288 with 1 Axes>"
      ]
     },
     "metadata": {
      "needs_background": "light"
     },
     "output_type": "display_data"
    }
   ],
   "source": [
    "# Plotting the cost\n",
    "plt.plot(c)"
   ]
  },
  {
   "cell_type": "code",
   "execution_count": 19,
   "id": "3ca96bf3",
   "metadata": {},
   "outputs": [],
   "source": [
    "# Predicting labels with the calculated weights and biases\n",
    "def predict(X, w, b):\n",
    "    return X.dot(w) + b"
   ]
  },
  {
   "cell_type": "code",
   "execution_count": 20,
   "id": "bcf1d67b",
   "metadata": {},
   "outputs": [],
   "source": [
    "y_pred = predict(X_test, w, b)"
   ]
  },
  {
   "cell_type": "code",
   "execution_count": 21,
   "id": "973d958e",
   "metadata": {},
   "outputs": [],
   "source": [
    "# Calculating the r² accuracy of our model\n",
    "def r2score(y_pred, y):\n",
    "    rss = np.sum((y_pred - y) ** 2)\n",
    "    tss = np.sum((y-y.mean()) ** 2)\n",
    "    \n",
    "    r2 = 1 - (rss / tss)\n",
    "    return r2"
   ]
  },
  {
   "cell_type": "code",
   "execution_count": 22,
   "id": "a07c79a7",
   "metadata": {},
   "outputs": [
    {
     "data": {
      "text/plain": [
       "0.8079073825829807"
      ]
     },
     "execution_count": 22,
     "metadata": {},
     "output_type": "execute_result"
    }
   ],
   "source": [
    "r2score(y_pred, y_test)"
   ]
  },
  {
   "cell_type": "markdown",
   "id": "74964946",
   "metadata": {},
   "source": [
    "## K FOLD CROSS VALIDATION ON DIFFERENT ML ALGORITHMS"
   ]
  },
  {
   "cell_type": "code",
   "execution_count": 29,
   "id": "78dc6b42",
   "metadata": {},
   "outputs": [
    {
     "name": "stdout",
     "output_type": "stream",
     "text": [
      "LR: 0.789368 \n",
      "RF: 0.744012 \n",
      "KNN: 0.748457 \n",
      "SV: 0.682314 \n",
      "DT: 0.535563 \n"
     ]
    },
    {
     "data": {
      "image/png": "[encoded data removed]",
      "text/plain": [
       "<Figure size 432x288 with 1 Axes>"
      ]
     },
     "metadata": {
      "needs_background": "light"
     },
     "output_type": "display_data"
    }
   ],
   "source": [
    "from sklearn import model_selection\n",
    "# prepare models\n",
    "models = []\n",
    "models.append(('LR', LinearRegression()))\n",
    "models.append(('RF', RandomForestRegressor()))\n",
    "models.append(('KNN', KNeighborsRegressor()))\n",
    "models.append(('SV',SVR()))\n",
    "models.append(('DT', DecisionTreeRegressor()))\n",
    "# evaluate each model in turn\n",
    "results = []\n",
    "names = []\n",
    "for name, model in models:\n",
    "\tkfold = model_selection.RepeatedKFold(n_splits=10)\n",
    "\tcv_results = model_selection.cross_val_score(model, X, y, cv=kfold)\n",
    "\tresults.append(cv_results)\n",
    "\tnames.append(name)\n",
    "\tmsg = \"%s: %f \" % (name, cv_results.mean())\n",
    "\tprint(msg)\n",
    "# boxplot algorithm comparison\n",
    "fig = plt.figure()\n",
    "fig.suptitle('Algorithm Comparison')\n",
    "ax = fig.add_subplot(111)\n",
    "plt.boxplot(results)\n",
    "ax.set_xticklabels(names)\n",
    "plt.show()"
   ]
  }
 ],
 "metadata": {
  "kernelspec": {
   "display_name": "Python 3",
   "language": "python",
   "name": "python3"
  },
  "language_info": {
   "codemirror_mode": {
    "name": "ipython",
    "version": 3
   },
   "file_extension": ".py",
   "mimetype": "text/x-python",
   "name": "python",
   "nbconvert_exporter": "python",
   "pygments_lexer": "ipython3",
   "version": "3.8.8"
  }
 },
 "nbformat": 4,
 "nbformat_minor": 5
}
